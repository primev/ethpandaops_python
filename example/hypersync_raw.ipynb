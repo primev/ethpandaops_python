{
 "cells": [
  {
   "cell_type": "code",
   "execution_count": 1,
   "metadata": {},
   "outputs": [],
   "source": [
    "import asyncio\n",
    "import hypersync\n",
    "from hypersync import BlockField, TransactionField, HypersyncClient\n",
    "import polars as pl"
   ]
  },
  {
   "cell_type": "code",
   "execution_count": 2,
   "metadata": {},
   "outputs": [],
   "source": [
    "def convert_hex_to_int(hex: str) -> int:\n",
    "    \"\"\"\n",
    "    Converts hexadecimal values in a transaction dictionary to integers, skipping specific keys.\n",
    "\n",
    "    Args:\n",
    "    transaction (dict): A dictionary containing transaction data, where some values are hexadecimals.\n",
    "\n",
    "    Returns:\n",
    "    dict: A new dictionary with hexadecimals converted to integers, excluding specified keys.\n",
    "    \"\"\"\n",
    "    # Only convert hex strings; leave other values as is\n",
    "    if isinstance(hex, str) and hex.startswith(\"0x\"):\n",
    "        # Convert hex string to integer\n",
    "        return int(hex, 16)\n",
    "    else:\n",
    "        return hex"
   ]
  },
  {
   "cell_type": "code",
   "execution_count": 3,
   "metadata": {},
   "outputs": [
    {
     "name": "stdout",
     "output_type": "stream",
     "text": [
      "Running the query...\n",
      "Query returned 467 blocks and 74374 transaction hashes\n"
     ]
    }
   ],
   "source": [
    "async def firehose_tx_block_query():\n",
    "    # Create hypersync client using the mainnet hypersync endpoint (default)\n",
    "    client = hypersync.HypersyncClient()\n",
    "\n",
    "    query = client.preset_query_blocks_and_transactions(19628000, 19629000)\n",
    "\n",
    "    print(\"Running the query...\")\n",
    "\n",
    "    res = await client.send_req(query)\n",
    "\n",
    "    print(\n",
    "        f\"Query returned {len(res.data.blocks)} blocks and {\n",
    "            len(res.data.transactions)} transaction hashes\"\n",
    "    )\n",
    "\n",
    "    return res.data.transactions, res.data.blocks\n",
    "\n",
    "\n",
    "# Await the main() function and capture its returned value\n",
    "all_txs, all_blocks = await firehose_tx_block_query()"
   ]
  },
  {
   "cell_type": "code",
   "execution_count": 4,
   "metadata": {},
   "outputs": [
    {
     "data": {
      "text/plain": [
       "Transaction { block_hash: Some(\"0x1df4377cf408bc7b50d3918cb49c1f3b0f668b49772a4466404edc72c3cf40a3\"), block_number: 19628000, from_: Some(\"0xa3ab1bee0d2b87218971e2a8f4a73f29a57a6c15\"), gas: Some(\"0x5208\"), gas_price: Some(\"0x0a7a358200\"), hash: Some(\"0xbb7c934c3bf41677af63dc67c715d6d190be96e756d470198562dc62789bfd56\"), input: Some(\"0x\"), nonce: Some(\"0x00\"), to: Some(\"0x2f19e5c3c66c44e6405d4c200fe064ece9bc253a\"), transaction_index: 0, value: Some(\"0x9adced66380bf000\"), v: Some(\"0x01\"), r: Some(\"0xd958a708cb975e97ad9a5972592b4e521ddc08c671df8b03016d3edb867c9ded\"), s: Some(\"0x236f0391f86760ecac182010b07900d3f9b720c0f69afd5a12d4584205122f08\"), max_priority_fee_per_gas: Some(\"0x0a7a358200\"), max_fee_per_gas: Some(\"0x0a7a358200\"), chain_id: Some(\"0x01\"), cumulative_gas_used: Some(\"0x5208\"), effective_gas_price: Some(\"0x0a7a358200\"), gas_used: Some(\"0x5208\"), contract_address: None, logs_bloom: Some(\"0x00000000000000000000000000000000000000000000000000000000000000000000000000000000000000000000000000000000000000000000000000000000000000000000000000000000000000000000000000000000000000000000000000000000000000000000000000000000000000000000000000000000000000000000000000000000000000000000000000000000000000000000000000000000000000000000000000000000000000000000000000000000000000000000000000000000000000000000000000000000000000000000000000000000000000000000000000000000000000000000000000000000000000000000000000000000\"), kind: None, root: None, status: Some(1) }"
      ]
     },
     "execution_count": 4,
     "metadata": {},
     "output_type": "execute_result"
    }
   ],
   "source": [
    "all_txs[0]"
   ]
  },
  {
   "cell_type": "code",
   "execution_count": 5,
   "metadata": {},
   "outputs": [],
   "source": [
    "all_data = []\n",
    "for tx in all_txs:\n",
    "    tx_data = {\n",
    "        \"block_number\": tx.block_number,\n",
    "        \"hash\": tx.hash,\n",
    "        \"from_\": tx.from_,\n",
    "        \"to\": tx.to,\n",
    "        \"gas\": convert_hex_to_int(tx.gas),\n",
    "        \"transaction_index\": tx.transaction_index,\n",
    "        \"gas_price\": convert_hex_to_int(tx.gas_price),\n",
    "        \"effective_gas_price\": convert_hex_to_int(tx.effective_gas_price),\n",
    "        \"gas_used\": convert_hex_to_int(tx.gas_used),\n",
    "        \"cumulative_gas_used\": convert_hex_to_int(tx.cumulative_gas_used),\n",
    "        \"max_fee_per_gas\": convert_hex_to_int(tx.max_fee_per_gas),\n",
    "        \"max_priority_fee_per_gas\": convert_hex_to_int(tx.max_priority_fee_per_gas),\n",
    "    }\n",
    "\n",
    "    all_data.append(tx_data)"
   ]
  },
  {
   "cell_type": "code",
   "execution_count": 6,
   "metadata": {},
   "outputs": [],
   "source": [
    "all_data_df = pl.DataFrame(all_data)"
   ]
  },
  {
   "cell_type": "code",
   "execution_count": 7,
   "metadata": {},
   "outputs": [
    {
     "data": {
      "text/html": [
       "<div><style>\n",
       ".dataframe > thead > tr,\n",
       ".dataframe > tbody > tr {\n",
       "  text-align: right;\n",
       "  white-space: pre-wrap;\n",
       "}\n",
       "</style>\n",
       "<small>shape: (5, 12)</small><table border=\"1\" class=\"dataframe\"><thead><tr><th>block_number</th><th>hash</th><th>from_</th><th>to</th><th>gas</th><th>transaction_index</th><th>gas_price</th><th>effective_gas_price</th><th>gas_used</th><th>cumulative_gas_used</th><th>max_fee_per_gas</th><th>max_priority_fee_per_gas</th></tr><tr><td>i64</td><td>str</td><td>str</td><td>str</td><td>i64</td><td>i64</td><td>i64</td><td>i64</td><td>i64</td><td>i64</td><td>i64</td><td>i64</td></tr></thead><tbody><tr><td>19628000</td><td>&quot;0xbb7c934c3bf4…</td><td>&quot;0xa3ab1bee0d2b…</td><td>&quot;0x2f19e5c3c66c…</td><td>21000</td><td>0</td><td>45000000000</td><td>45000000000</td><td>21000</td><td>21000</td><td>45000000000</td><td>45000000000</td></tr><tr><td>19628000</td><td>&quot;0xf5f61620a05a…</td><td>&quot;0x78e7b9bd59b9…</td><td>&quot;0x8207c1ffc5b6…</td><td>69024</td><td>1</td><td>22000000000</td><td>22000000000</td><td>39696</td><td>60696</td><td>null</td><td>null</td></tr><tr><td>19628000</td><td>&quot;0x8a132d193894…</td><td>&quot;0xb4023ad7a46e…</td><td>&quot;0x1f9840a85d5a…</td><td>68932</td><td>2</td><td>21284173218</td><td>21284173218</td><td>52418</td><td>113114</td><td>21284173218</td><td>21284173218</td></tr><tr><td>19628000</td><td>&quot;0x222ae08c0612…</td><td>&quot;0x4f2f271e58e9…</td><td>&quot;0xd37bbe5744d7…</td><td>44922</td><td>3</td><td>20000000000</td><td>20000000000</td><td>39836</td><td>152950</td><td>null</td><td>null</td></tr><tr><td>19628000</td><td>&quot;0x9a7c49692f21…</td><td>&quot;0x077d360f11d2…</td><td>&quot;0x19cbe5933034…</td><td>60000</td><td>4</td><td>19980000000</td><td>19980000000</td><td>21000</td><td>173950</td><td>null</td><td>null</td></tr></tbody></table></div>"
      ],
      "text/plain": [
       "shape: (5, 12)\n",
       "┌───────────┬───────────┬───────────┬───────────┬───┬──────────┬───────────┬───────────┬───────────┐\n",
       "│ block_num ┆ hash      ┆ from_     ┆ to        ┆ … ┆ gas_used ┆ cumulativ ┆ max_fee_p ┆ max_prior │\n",
       "│ ber       ┆ ---       ┆ ---       ┆ ---       ┆   ┆ ---      ┆ e_gas_use ┆ er_gas    ┆ ity_fee_p │\n",
       "│ ---       ┆ str       ┆ str       ┆ str       ┆   ┆ i64      ┆ d         ┆ ---       ┆ er_gas    │\n",
       "│ i64       ┆           ┆           ┆           ┆   ┆          ┆ ---       ┆ i64       ┆ ---       │\n",
       "│           ┆           ┆           ┆           ┆   ┆          ┆ i64       ┆           ┆ i64       │\n",
       "╞═══════════╪═══════════╪═══════════╪═══════════╪═══╪══════════╪═══════════╪═══════════╪═══════════╡\n",
       "│ 19628000  ┆ 0xbb7c934 ┆ 0xa3ab1be ┆ 0x2f19e5c ┆ … ┆ 21000    ┆ 21000     ┆ 450000000 ┆ 450000000 │\n",
       "│           ┆ c3bf41677 ┆ e0d2b8721 ┆ 3c66c44e6 ┆   ┆          ┆           ┆ 00        ┆ 00        │\n",
       "│           ┆ af63dc67c ┆ 8971e2a8f ┆ 405d4c200 ┆   ┆          ┆           ┆           ┆           │\n",
       "│           ┆ 715d6…    ┆ 4a73f…    ┆ fe064…    ┆   ┆          ┆           ┆           ┆           │\n",
       "│ 19628000  ┆ 0xf5f6162 ┆ 0x78e7b9b ┆ 0x8207c1f ┆ … ┆ 39696    ┆ 60696     ┆ null      ┆ null      │\n",
       "│           ┆ 0a05aaa49 ┆ d59b95745 ┆ fc5b6804f ┆   ┆          ┆           ┆           ┆           │\n",
       "│           ┆ 52accfb68 ┆ 523a72b57 ┆ 6024322cc ┆   ┆          ┆           ┆           ┆           │\n",
       "│           ┆ 27eab…    ┆ d8728…    ┆ f34f2…    ┆   ┆          ┆           ┆           ┆           │\n",
       "│ 19628000  ┆ 0x8a132d1 ┆ 0xb4023ad ┆ 0x1f9840a ┆ … ┆ 52418    ┆ 113114    ┆ 212841732 ┆ 212841732 │\n",
       "│           ┆ 9389423f5 ┆ 7a46e2888 ┆ 85d5af5bf ┆   ┆          ┆           ┆ 18        ┆ 18        │\n",
       "│           ┆ b0c61a8f3 ┆ 13f1d9727 ┆ 1d1762f92 ┆   ┆          ┆           ┆           ┆           │\n",
       "│           ┆ 9fa1a…    ┆ a2938…    ┆ 5bdad…    ┆   ┆          ┆           ┆           ┆           │\n",
       "│ 19628000  ┆ 0x222ae08 ┆ 0x4f2f271 ┆ 0xd37bbe5 ┆ … ┆ 39836    ┆ 152950    ┆ null      ┆ null      │\n",
       "│           ┆ c06122881 ┆ e58e94a8e ┆ 744d730a1 ┆   ┆          ┆           ┆           ┆           │\n",
       "│           ┆ 7f2853f47 ┆ 888573c81 ┆ d98d8dc97 ┆   ┆          ┆           ┆           ┆           │\n",
       "│           ┆ 9878f…    ┆ 1e626…    ┆ c42f0…    ┆   ┆          ┆           ┆           ┆           │\n",
       "│ 19628000  ┆ 0x9a7c496 ┆ 0x077d360 ┆ 0x19cbe59 ┆ … ┆ 21000    ┆ 173950    ┆ null      ┆ null      │\n",
       "│           ┆ 92f219543 ┆ f11d220e4 ┆ 3303448ad ┆   ┆          ┆           ┆           ┆           │\n",
       "│           ┆ f21beb5fb ┆ d5d831430 ┆ 953d93c46 ┆   ┆          ┆           ┆           ┆           │\n",
       "│           ┆ 1987f…    ┆ c81c2…    ┆ 1ef18…    ┆   ┆          ┆           ┆           ┆           │\n",
       "└───────────┴───────────┴───────────┴───────────┴───┴──────────┴───────────┴───────────┴───────────┘"
      ]
     },
     "execution_count": 7,
     "metadata": {},
     "output_type": "execute_result"
    }
   ],
   "source": [
    "all_data_df.head(5)"
   ]
  },
  {
   "cell_type": "code",
   "execution_count": 8,
   "metadata": {},
   "outputs": [],
   "source": [
    "# filtered tx query\n",
    "async def filtered_tx_block_query():\n",
    "    client = HypersyncClient()\n",
    "\n",
    "    diff = 7200 * 2\n",
    "    height = await client.get_height()\n",
    "\n",
    "    query = hypersync.Query(\n",
    "        from_block=height - diff,\n",
    "        transactions=[\n",
    "            hypersync.TransactionSelection(\n",
    "                from_=[\"0x5050f69a9786f081509234f1a7f4684b5e5b76c9\"]\n",
    "            )\n",
    "        ],\n",
    "        field_selection=hypersync.FieldSelection(\n",
    "            transaction=[el.value for el in TransactionField],\n",
    "            block=[el.value for el in BlockField],\n",
    "        ),\n",
    "    )\n",
    "\n",
    "    transactions = []\n",
    "    blocks = []\n",
    "\n",
    "    while True:\n",
    "        res = await client.send_req(query)\n",
    "\n",
    "        transactions += res.data.transactions\n",
    "        blocks += res.data.blocks\n",
    "\n",
    "        if res.archive_height < res.next_block:\n",
    "            # quit if reached tip (can put a time.sleep here and continue)\n",
    "            break\n",
    "\n",
    "        query.from_block = res.next_block\n",
    "\n",
    "        print(\"scanned up to block \" + str(query.from_block))\n",
    "\n",
    "    return transactions, blocks\n",
    "\n",
    "\n",
    "# Await the main() function and capture its returned value\n",
    "transactions, blocks = await filtered_tx_block_query()"
   ]
  },
  {
   "cell_type": "code",
   "execution_count": 9,
   "metadata": {},
   "outputs": [],
   "source": [
    "data = []\n",
    "for tx in transactions:\n",
    "    tx_data = {\n",
    "        \"block_number\": tx.block_number,\n",
    "        \"hash\": tx.hash,\n",
    "        \"from_\": tx.from_,\n",
    "        \"to\": tx.to,\n",
    "        \"gas\": convert_hex_to_int(tx.gas),\n",
    "        \"transaction_index\": tx.transaction_index,\n",
    "        \"gas_price\": convert_hex_to_int(tx.gas_price),\n",
    "        \"effective_gas_price\": convert_hex_to_int(tx.effective_gas_price),\n",
    "        \"gas_used\": convert_hex_to_int(tx.gas_used),\n",
    "        \"cumulative_gas_used\": convert_hex_to_int(tx.cumulative_gas_used),\n",
    "        \"max_fee_per_gas\": convert_hex_to_int(tx.max_fee_per_gas),\n",
    "        \"max_priority_fee_per_gas\": convert_hex_to_int(tx.max_priority_fee_per_gas),\n",
    "    }\n",
    "\n",
    "    data.append(tx_data)"
   ]
  },
  {
   "cell_type": "code",
   "execution_count": 10,
   "metadata": {},
   "outputs": [],
   "source": [
    "df = pl.DataFrame(data)"
   ]
  },
  {
   "cell_type": "code",
   "execution_count": 11,
   "metadata": {},
   "outputs": [
    {
     "data": {
      "text/html": [
       "<div><style>\n",
       ".dataframe > thead > tr,\n",
       ".dataframe > tbody > tr {\n",
       "  text-align: right;\n",
       "  white-space: pre-wrap;\n",
       "}\n",
       "</style>\n",
       "<small>shape: (5, 12)</small><table border=\"1\" class=\"dataframe\"><thead><tr><th>block_number</th><th>hash</th><th>from_</th><th>to</th><th>gas</th><th>transaction_index</th><th>gas_price</th><th>effective_gas_price</th><th>gas_used</th><th>cumulative_gas_used</th><th>max_fee_per_gas</th><th>max_priority_fee_per_gas</th></tr><tr><td>i64</td><td>str</td><td>str</td><td>str</td><td>i64</td><td>i64</td><td>i64</td><td>i64</td><td>i64</td><td>i64</td><td>i64</td><td>i64</td></tr></thead><tbody><tr><td>19614730</td><td>&quot;0xa80e5b0868bb…</td><td>&quot;0x5050f69a9786…</td><td>&quot;0xff0000000000…</td><td>21000</td><td>21</td><td>25634302908</td><td>25634302908</td><td>21000</td><td>822429</td><td>49147568278</td><td>2000000000</td></tr><tr><td>19614736</td><td>&quot;0x79224a55c0c4…</td><td>&quot;0x5050f69a9786…</td><td>&quot;0xff0000000000…</td><td>21000</td><td>56</td><td>21904177440</td><td>21904177440</td><td>21000</td><td>1719094</td><td>46282936838</td><td>2000000000</td></tr><tr><td>19614742</td><td>&quot;0xf40e357ceac7…</td><td>&quot;0x5050f69a9786…</td><td>&quot;0xff0000000000…</td><td>21000</td><td>45</td><td>24024458604</td><td>24024458604</td><td>21000</td><td>4148942</td><td>37602652280</td><td>2000000000</td></tr><tr><td>19614744</td><td>&quot;0x96d5370232f2…</td><td>&quot;0x5050f69a9786…</td><td>&quot;0xff0000000000…</td><td>21000</td><td>71</td><td>23692359114</td><td>23692359114</td><td>21000</td><td>5304387</td><td>45334028610</td><td>2000000000</td></tr><tr><td>19614750</td><td>&quot;0x373eaf9d4a89…</td><td>&quot;0x5050f69a9786…</td><td>&quot;0xff0000000000…</td><td>21000</td><td>14</td><td>23647749138</td><td>23647749138</td><td>21000</td><td>1568409</td><td>44382244956</td><td>2000000000</td></tr></tbody></table></div>"
      ],
      "text/plain": [
       "shape: (5, 12)\n",
       "┌───────────┬───────────┬───────────┬───────────┬───┬──────────┬───────────┬───────────┬───────────┐\n",
       "│ block_num ┆ hash      ┆ from_     ┆ to        ┆ … ┆ gas_used ┆ cumulativ ┆ max_fee_p ┆ max_prior │\n",
       "│ ber       ┆ ---       ┆ ---       ┆ ---       ┆   ┆ ---      ┆ e_gas_use ┆ er_gas    ┆ ity_fee_p │\n",
       "│ ---       ┆ str       ┆ str       ┆ str       ┆   ┆ i64      ┆ d         ┆ ---       ┆ er_gas    │\n",
       "│ i64       ┆           ┆           ┆           ┆   ┆          ┆ ---       ┆ i64       ┆ ---       │\n",
       "│           ┆           ┆           ┆           ┆   ┆          ┆ i64       ┆           ┆ i64       │\n",
       "╞═══════════╪═══════════╪═══════════╪═══════════╪═══╪══════════╪═══════════╪═══════════╪═══════════╡\n",
       "│ 19614730  ┆ 0xa80e5b0 ┆ 0x5050f69 ┆ 0xff00000 ┆ … ┆ 21000    ┆ 822429    ┆ 491475682 ┆ 200000000 │\n",
       "│           ┆ 868bb36fb ┆ a9786f081 ┆ 000000000 ┆   ┆          ┆           ┆ 78        ┆ 0         │\n",
       "│           ┆ 59faf046d ┆ 509234f1a ┆ 000000000 ┆   ┆          ┆           ┆           ┆           │\n",
       "│           ┆ 2ac54…    ┆ 7f468…    ┆ 00000…    ┆   ┆          ┆           ┆           ┆           │\n",
       "│ 19614736  ┆ 0x79224a5 ┆ 0x5050f69 ┆ 0xff00000 ┆ … ┆ 21000    ┆ 1719094   ┆ 462829368 ┆ 200000000 │\n",
       "│           ┆ 5c0c4fc27 ┆ a9786f081 ┆ 000000000 ┆   ┆          ┆           ┆ 38        ┆ 0         │\n",
       "│           ┆ cfc6a82b0 ┆ 509234f1a ┆ 000000000 ┆   ┆          ┆           ┆           ┆           │\n",
       "│           ┆ edd67…    ┆ 7f468…    ┆ 00000…    ┆   ┆          ┆           ┆           ┆           │\n",
       "│ 19614742  ┆ 0xf40e357 ┆ 0x5050f69 ┆ 0xff00000 ┆ … ┆ 21000    ┆ 4148942   ┆ 376026522 ┆ 200000000 │\n",
       "│           ┆ ceac7f3e2 ┆ a9786f081 ┆ 000000000 ┆   ┆          ┆           ┆ 80        ┆ 0         │\n",
       "│           ┆ c33b589f2 ┆ 509234f1a ┆ 000000000 ┆   ┆          ┆           ┆           ┆           │\n",
       "│           ┆ 65ea4…    ┆ 7f468…    ┆ 00000…    ┆   ┆          ┆           ┆           ┆           │\n",
       "│ 19614744  ┆ 0x96d5370 ┆ 0x5050f69 ┆ 0xff00000 ┆ … ┆ 21000    ┆ 5304387   ┆ 453340286 ┆ 200000000 │\n",
       "│           ┆ 232f22b62 ┆ a9786f081 ┆ 000000000 ┆   ┆          ┆           ┆ 10        ┆ 0         │\n",
       "│           ┆ 353db3769 ┆ 509234f1a ┆ 000000000 ┆   ┆          ┆           ┆           ┆           │\n",
       "│           ┆ c5bb0…    ┆ 7f468…    ┆ 00000…    ┆   ┆          ┆           ┆           ┆           │\n",
       "│ 19614750  ┆ 0x373eaf9 ┆ 0x5050f69 ┆ 0xff00000 ┆ … ┆ 21000    ┆ 1568409   ┆ 443822449 ┆ 200000000 │\n",
       "│           ┆ d4a891a4a ┆ a9786f081 ┆ 000000000 ┆   ┆          ┆           ┆ 56        ┆ 0         │\n",
       "│           ┆ 21aa475bd ┆ 509234f1a ┆ 000000000 ┆   ┆          ┆           ┆           ┆           │\n",
       "│           ┆ f6ad2…    ┆ 7f468…    ┆ 00000…    ┆   ┆          ┆           ┆           ┆           │\n",
       "└───────────┴───────────┴───────────┴───────────┴───┴──────────┴───────────┴───────────┴───────────┘"
      ]
     },
     "execution_count": 11,
     "metadata": {},
     "output_type": "execute_result"
    }
   ],
   "source": [
    "df.head(5)"
   ]
  },
  {
   "cell_type": "code",
   "execution_count": null,
   "metadata": {},
   "outputs": [],
   "source": []
  }
 ],
 "metadata": {
  "kernelspec": {
   "display_name": ".venv",
   "language": "python",
   "name": "python3"
  },
  "language_info": {
   "codemirror_mode": {
    "name": "ipython",
    "version": 3
   },
   "file_extension": ".py",
   "mimetype": "text/x-python",
   "name": "python",
   "nbconvert_exporter": "python",
   "pygments_lexer": "ipython3",
   "version": "3.12.2"
  }
 },
 "nbformat": 4,
 "nbformat_minor": 2
}
